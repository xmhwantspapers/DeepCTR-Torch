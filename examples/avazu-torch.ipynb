{
 "cells": [
  {
   "cell_type": "code",
   "execution_count": 1,
   "metadata": {},
   "outputs": [],
   "source": [
    "import sys\n",
    "\n",
    "sys.path.append(\"/home/xmh/DeepCTR-Torch\")\n",
    "\n",
    "# -*- coding: utf-8 -*-\n",
    "import pandas as pd\n",
    "import torch\n",
    "from sklearn.metrics import log_loss, roc_auc_score,accuracy_score\n",
    "from sklearn.model_selection import train_test_split\n",
    "from sklearn.preprocessing import LabelEncoder, MinMaxScaler\n",
    "\n",
    "from deepctr_torch.inputs import SparseFeat, DenseFeat, get_feature_names\n",
    "from deepctr_torch.models import *\n",
    "\n",
    "import numpy as np"
   ]
  },
  {
   "cell_type": "code",
   "execution_count": 2,
   "metadata": {},
   "outputs": [],
   "source": [
    "data_prefix = \"/data/avazu-ctr-prediction/\"\n",
    "df = pd.read_csv(data_prefix + \"train-mini\")\n",
    "# df = pd.read_csv(data_prefix + \"train\")"
   ]
  },
  {
   "cell_type": "code",
   "execution_count": 3,
   "metadata": {},
   "outputs": [],
   "source": [
    "data = df\n",
    "sparse_features = ['id', 'C1', 'banner_pos', 'site_id', 'site_domain',\n",
    "                   'site_category', 'app_id', 'app_domain', 'app_category', 'device_id',\n",
    "                   'device_ip', 'device_model', 'device_type', 'device_conn_type', ] \\\n",
    "                  + ['C' + str(i) for i in range(14, 22)]\n",
    "dense_features = []\n",
    "\n",
    "target = ['click']\n",
    "\n",
    "# 1.Label Encoding for sparse features,and do simple Transformation for dense features\n",
    "\n",
    "mms = MinMaxScaler(feature_range=(0, 1))\n",
    "if dense_features != []:\n",
    "    data[dense_features] = mms.fit_transform(data[dense_features])\n",
    "\n",
    "for feat in sparse_features:\n",
    "    lbe = LabelEncoder()\n",
    "    data[feat] = lbe.fit_transform(data[feat])\n",
    "\n",
    "# 2.count #unique features for each sparse field,and record dense feature field name\n",
    "\n",
    "fixlen_feature_columns = [SparseFeat(feat, vocabulary_size=data[feat].nunique(), embedding_dim=4)\n",
    "                          for i, feat in enumerate(sparse_features)] + [DenseFeat(feat, 1,)\n",
    "                                                                        for feat in dense_features]\n",
    "\n",
    "dnn_feature_columns = fixlen_feature_columns\n",
    "linear_feature_columns = fixlen_feature_columns\n",
    "\n",
    "feature_names = get_feature_names(linear_feature_columns + dnn_feature_columns)\n",
    "\n",
    "# 3.generate input data for modelf\n",
    "\n",
    "train, test = train_test_split(data, test_size=0.1)\n",
    "train_model_input = {name: train[name] for name in feature_names}\n",
    "test_model_input = {name: test[name] for name in feature_names}"
   ]
  },
  {
   "cell_type": "code",
   "execution_count": 4,
   "metadata": {},
   "outputs": [
    {
     "name": "stdout",
     "output_type": "stream",
     "text": [
      "out.bias\n",
      "dnn.linears.0.weight\n",
      "dnn.linears.0.bias\n",
      "dnn.linears.1.weight\n",
      "dnn.linears.1.bias\n",
      "dnn_linear.weight\n",
      "embedding_dict.C1.weight\n",
      "embedding_dict.C14.weight\n",
      "embedding_dict.C15.weight\n",
      "embedding_dict.C16.weight\n",
      "embedding_dict.C17.weight\n",
      "embedding_dict.C18.weight\n",
      "embedding_dict.C19.weight\n",
      "embedding_dict.C20.weight\n",
      "embedding_dict.C21.weight\n",
      "embedding_dict.app_category.weight\n",
      "embedding_dict.app_domain.weight\n",
      "embedding_dict.app_id.weight\n",
      "embedding_dict.banner_pos.weight\n",
      "embedding_dict.device_conn_type.weight\n",
      "embedding_dict.device_id.weight\n",
      "embedding_dict.device_ip.weight\n",
      "embedding_dict.device_model.weight\n",
      "embedding_dict.device_type.weight\n",
      "embedding_dict.id.weight\n",
      "embedding_dict.site_category.weight\n",
      "embedding_dict.site_domain.weight\n",
      "embedding_dict.site_id.weight\n",
      "linear_model.embedding_dict.C1.weight\n",
      "linear_model.embedding_dict.C14.weight\n",
      "linear_model.embedding_dict.C15.weight\n",
      "linear_model.embedding_dict.C16.weight\n",
      "linear_model.embedding_dict.C17.weight\n",
      "linear_model.embedding_dict.C18.weight\n",
      "linear_model.embedding_dict.C19.weight\n",
      "linear_model.embedding_dict.C20.weight\n",
      "linear_model.embedding_dict.C21.weight\n",
      "linear_model.embedding_dict.app_category.weight\n",
      "linear_model.embedding_dict.app_domain.weight\n",
      "linear_model.embedding_dict.app_id.weight\n",
      "linear_model.embedding_dict.banner_pos.weight\n",
      "linear_model.embedding_dict.device_conn_type.weight\n",
      "linear_model.embedding_dict.device_id.weight\n",
      "linear_model.embedding_dict.device_ip.weight\n",
      "linear_model.embedding_dict.device_model.weight\n",
      "linear_model.embedding_dict.device_type.weight\n",
      "linear_model.embedding_dict.id.weight\n",
      "linear_model.embedding_dict.site_category.weight\n",
      "linear_model.embedding_dict.site_domain.weight\n",
      "linear_model.embedding_dict.site_id.weight\n"
     ]
    },
    {
     "name": "stderr",
     "output_type": "stream",
     "text": [
      "2it [00:00, 19.57it/s]"
     ]
    },
    {
     "name": "stdout",
     "output_type": "stream",
     "text": [
      "cpu\n",
      "Train on 80999 samples, validate on 9000 samples, 633 steps per epoch\n"
     ]
    },
    {
     "name": "stderr",
     "output_type": "stream",
     "text": [
      "104it [00:04, 15.17it/s]"
     ]
    },
    {
     "name": "stdout",
     "output_type": "stream",
     "text": [
      "[Iter99] - loss:  18.7423 - binary_crossentropy:  10.4850 - acc:  0.3350 - auc:  0.5027 - val_binary_crossentropy:  13.1914 - val_acc:  0.1726 - val_auc:  0.5000\n"
     ]
    },
    {
     "name": "stderr",
     "output_type": "stream",
     "text": [
      "202it [00:09, 13.79it/s]"
     ]
    },
    {
     "name": "stdout",
     "output_type": "stream",
     "text": [
      "[Iter199] - loss:  20.6621 - binary_crossentropy:  11.7571 - acc:  0.2589 - auc:  0.5014 - val_binary_crossentropy:  13.1914 - val_acc:  0.1726 - val_auc:  0.5000\n"
     ]
    },
    {
     "name": "stderr",
     "output_type": "stream",
     "text": [
      "305it [00:13, 19.01it/s]"
     ]
    },
    {
     "name": "stdout",
     "output_type": "stream",
     "text": [
      "[Iter299] - loss:  21.4028 - binary_crossentropy:  12.2392 - acc:  0.2298 - auc:  0.5009 - val_binary_crossentropy:  13.1914 - val_acc:  0.1726 - val_auc:  0.5000\n"
     ]
    },
    {
     "name": "stderr",
     "output_type": "stream",
     "text": [
      "402it [00:17, 13.35it/s]"
     ]
    },
    {
     "name": "stdout",
     "output_type": "stream",
     "text": [
      "[Iter399] - loss:  21.7483 - binary_crossentropy:  12.4660 - acc:  0.2162 - auc:  0.5007 - val_binary_crossentropy:  13.1914 - val_acc:  0.1726 - val_auc:  0.5000\n"
     ]
    },
    {
     "name": "stderr",
     "output_type": "stream",
     "text": [
      "504it [00:21, 15.57it/s]"
     ]
    },
    {
     "name": "stdout",
     "output_type": "stream",
     "text": [
      "[Iter499] - loss:  21.9444 - binary_crossentropy:  12.5956 - acc:  0.2085 - auc:  0.5005 - val_binary_crossentropy:  13.1914 - val_acc:  0.1726 - val_auc:  0.5000\n"
     ]
    },
    {
     "name": "stderr",
     "output_type": "stream",
     "text": [
      "603it [00:26, 15.74it/s]"
     ]
    },
    {
     "name": "stdout",
     "output_type": "stream",
     "text": [
      "[Iter599] - loss:  22.0942 - binary_crossentropy:  12.6929 - acc:  0.2026 - auc:  0.5005 - val_binary_crossentropy:  13.1914 - val_acc:  0.1726 - val_auc:  0.5000\n"
     ]
    },
    {
     "name": "stderr",
     "output_type": "stream",
     "text": [
      "633it [00:27, 23.09it/s]\n"
     ]
    },
    {
     "name": "stdout",
     "output_type": "stream",
     "text": [
      "Epoch 1/1\n",
      "27s - loss:  22.1465 - binary_crossentropy:  12.7262 - acc:  0.2006 - auc:  0.5004 - val_binary_crossentropy:  13.1914 - val_acc:  0.1726 - val_auc:  0.5000\n",
      "test LogLoss nan\n",
      "test Accuracy 0.1717\n",
      "test AUC 0.5\n"
     ]
    },
    {
     "name": "stderr",
     "output_type": "stream",
     "text": [
      "/home/xmh/anaconda3/lib/python3.7/site-packages/sklearn/metrics/_classification.py:2295: RuntimeWarning: divide by zero encountered in log\n",
      "  loss = -(transformed_labels * np.log(y_pred)).sum(axis=1)\n",
      "/home/xmh/anaconda3/lib/python3.7/site-packages/sklearn/metrics/_classification.py:2295: RuntimeWarning: invalid value encountered in multiply\n",
      "  loss = -(transformed_labels * np.log(y_pred)).sum(axis=1)\n"
     ]
    }
   ],
   "source": [
    "# 4.Define Model,train,predict and evaluate\n",
    "import argparse\n",
    "\n",
    "parser = argparse.ArgumentParser()\n",
    "parser.add_argument(\"--model\", choices=('deepfm',\n",
    "                                        'wdl', 'dcn'),\n",
    "                    default='deepfm')\n",
    "\n",
    "parser.add_argument(\"--dense-opt\", choices=('adam',\n",
    "                                            'sgd', 'adagrad', 'adadelta'), default='sgd')\n",
    "parser.add_argument(\"--sparse-opt\", choices=('adam',\n",
    "                                             'sgd', 'adagrad', 'adadelta', 'rrms'), default='sgd')\n",
    "# sgd有问题\n",
    "\n",
    "\n",
    "parser.add_argument(\"--dense-lr\", type=float, default=0.1)\n",
    "parser.add_argument(\"--sparse-lr\", type=float, default=0.1)\n",
    "\n",
    "\n",
    "args = parser.parse_args(args=[])\n",
    "\n",
    "\n",
    "model_name = args.model\n",
    "optimizer_dense = args.dense_opt\n",
    "optimizer_sparse = args.sparse_opt\n",
    "optimizer_dense_lr = args.dense_lr\n",
    "optimizer_sparse_lr = args.sparse_lr\n",
    "\n",
    "device = 'cpu'\n",
    "use_cuda = True\n",
    "if use_cuda and torch.cuda.is_available():\n",
    "    print('cuda ready...')\n",
    "    device = 'cuda:0'\n",
    "\n",
    "if model_name == \"deepfm\":\n",
    "    model = DeepFM(linear_feature_columns, dnn_feature_columns,\n",
    "                   task='binary', device=device)\n",
    "# elif model_name == \"din\":\n",
    "#     model = DIN(linear_feature_columns, dnn_feature_columns,\n",
    "#                 task='binary', device=device)\n",
    "elif model_name == \"wdl\":\n",
    "    model = WDL(linear_feature_columns, dnn_feature_columns,\n",
    "                task='binary', device=device)\n",
    "elif model_name == \"dcn\":\n",
    "    model = DCN(linear_feature_columns, dnn_feature_columns,\n",
    "                task='binary', device=device)\n",
    "\n",
    "model.compile(optimizer=optimizer_dense, loss=\"binary_crossentropy\",\n",
    "              metrics=['binary_crossentropy', 'acc', 'AUC'],\n",
    "              optimizer_sparse=optimizer_sparse,\n",
    "              optimizer_dense_lr=optimizer_dense_lr,\n",
    "              optimizer_sparse_lr=optimizer_sparse_lr, )\n",
    "history = model.fit(train_model_input, train[target].values,\n",
    "                    batch_size=128, epochs=1, verbose=1, validation_split=0.1, model_name=model_name,\n",
    "                   verbose_steps= 100)\n",
    "pred_ans = model.predict(test_model_input, batch_size=128)\n",
    "print(\"test LogLoss\", round(log_loss(test[target].values, pred_ans), 4))\n",
    "print(\"test Accuracy\", round(accuracy_score(\n",
    "    test[target].values, pred_ans > 0.5), 4))\n",
    "print(\"test AUC\", round(roc_auc_score(test[target].values, pred_ans), 4))"
   ]
  },
  {
   "cell_type": "code",
   "execution_count": null,
   "metadata": {},
   "outputs": [],
   "source": []
  },
  {
   "cell_type": "code",
   "execution_count": null,
   "metadata": {},
   "outputs": [],
   "source": []
  }
 ],
 "metadata": {
  "kernelspec": {
   "display_name": "Python 3",
   "language": "python",
   "name": "python3"
  },
  "language_info": {
   "codemirror_mode": {
    "name": "ipython",
    "version": 3
   },
   "file_extension": ".py",
   "mimetype": "text/x-python",
   "name": "python",
   "nbconvert_exporter": "python",
   "pygments_lexer": "ipython3",
   "version": "3.7.4"
  },
  "toc": {
   "base_numbering": 1,
   "nav_menu": {},
   "number_sections": true,
   "sideBar": true,
   "skip_h1_title": false,
   "title_cell": "Table of Contents",
   "title_sidebar": "Contents",
   "toc_cell": false,
   "toc_position": {},
   "toc_section_display": true,
   "toc_window_display": false
  }
 },
 "nbformat": 4,
 "nbformat_minor": 2
}
