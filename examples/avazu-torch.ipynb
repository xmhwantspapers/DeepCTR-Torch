{
 "cells": [
  {
   "cell_type": "code",
   "execution_count": 1,
   "metadata": {},
   "outputs": [],
   "source": [
    "import sys\n",
    "\n",
    "sys.path.append(\"/home/xmh/DeepCTR-Torch\")\n",
    "\n",
    "# -*- coding: utf-8 -*-\n",
    "import pandas as pd\n",
    "import torch\n",
    "from sklearn.metrics import log_loss, roc_auc_score,accuracy_score\n",
    "from sklearn.model_selection import train_test_split\n",
    "from sklearn.preprocessing import LabelEncoder, MinMaxScaler\n",
    "\n",
    "from deepctr_torch.inputs import SparseFeat, DenseFeat, get_feature_names\n",
    "from deepctr_torch.models import *\n",
    "\n",
    "import numpy as np"
   ]
  },
  {
   "cell_type": "code",
   "execution_count": 2,
   "metadata": {},
   "outputs": [],
   "source": [
    "data_prefix = \"/data/avazu-ctr-prediction/\"\n",
    "df = pd.read_csv(data_prefix + \"train-mini\")\n",
    "# df = pd.read_csv(data_prefix + \"train\")"
   ]
  },
  {
   "cell_type": "code",
   "execution_count": 3,
   "metadata": {},
   "outputs": [],
   "source": [
    "data = df\n",
    "sparse_features = ['id', 'C1', 'banner_pos', 'site_id', 'site_domain',\n",
    "                   'site_category', 'app_id', 'app_domain', 'app_category', 'device_id',\n",
    "                   'device_ip', 'device_model', 'device_type', 'device_conn_type', ] \\\n",
    "                  + ['C' + str(i) for i in range(14, 22)]\n",
    "dense_features = []\n",
    "\n",
    "target = ['click']\n",
    "\n",
    "# 1.Label Encoding for sparse features,and do simple Transformation for dense features\n",
    "\n",
    "mms = MinMaxScaler(feature_range=(0, 1))\n",
    "if dense_features != []:\n",
    "    data[dense_features] = mms.fit_transform(data[dense_features])\n",
    "\n",
    "for feat in sparse_features:\n",
    "    lbe = LabelEncoder()\n",
    "    data[feat] = lbe.fit_transform(data[feat])\n",
    "\n",
    "# 2.count #unique features for each sparse field,and record dense feature field name\n",
    "\n",
    "fixlen_feature_columns = [SparseFeat(feat, vocabulary_size=data[feat].nunique(), embedding_dim=4)\n",
    "                          for i, feat in enumerate(sparse_features)] + [DenseFeat(feat, 1,)\n",
    "                                                                        for feat in dense_features]\n",
    "\n",
    "dnn_feature_columns = fixlen_feature_columns\n",
    "linear_feature_columns = fixlen_feature_columns\n",
    "\n",
    "feature_names = get_feature_names(linear_feature_columns + dnn_feature_columns)\n",
    "\n",
    "# 3.generate input data for modelf\n",
    "\n",
    "train, test = train_test_split(data, test_size=0.1)\n",
    "train_model_input = {name: train[name] for name in feature_names}\n",
    "test_model_input = {name: test[name] for name in feature_names}"
   ]
  },
  {
   "cell_type": "code",
   "execution_count": 5,
   "metadata": {},
   "outputs": [
    {
     "name": "stderr",
     "output_type": "stream",
     "text": [
      "2it [00:00, 16.85it/s]"
     ]
    },
    {
     "name": "stdout",
     "output_type": "stream",
     "text": [
      "cpu\n",
      "Train on 80999 samples, validate on 9000 samples, 633 steps per epoch\n"
     ]
    },
    {
     "name": "stderr",
     "output_type": "stream",
     "text": [
      "104it [00:04, 15.24it/s]"
     ]
    },
    {
     "name": "stdout",
     "output_type": "stream",
     "text": [
      "[Iter99] - loss:  0.4688 - binary_crossentropy:  0.4688 - acc:  0.8261 - auc:  0.6605 - val_binary_crossentropy:  0.4222 - val_acc:  0.8274 - val_auc:  0.7075\n"
     ]
    },
    {
     "name": "stderr",
     "output_type": "stream",
     "text": [
      "203it [00:09, 14.22it/s]"
     ]
    },
    {
     "name": "stdout",
     "output_type": "stream",
     "text": [
      "[Iter199] - loss:  0.4448 - binary_crossentropy:  0.4448 - acc:  0.8245 - auc:  0.6922 - val_binary_crossentropy:  0.4131 - val_acc:  0.8270 - val_auc:  0.7348\n"
     ]
    },
    {
     "name": "stderr",
     "output_type": "stream",
     "text": [
      "302it [00:14, 12.49it/s]"
     ]
    },
    {
     "name": "stdout",
     "output_type": "stream",
     "text": [
      "[Iter299] - loss:  0.4341 - binary_crossentropy:  0.4341 - acc:  0.8248 - auc:  0.7064 - val_binary_crossentropy:  0.4072 - val_acc:  0.8256 - val_auc:  0.7481\n"
     ]
    },
    {
     "name": "stderr",
     "output_type": "stream",
     "text": [
      "404it [00:19, 14.22it/s]"
     ]
    },
    {
     "name": "stdout",
     "output_type": "stream",
     "text": [
      "[Iter399] - loss:  0.4256 - binary_crossentropy:  0.4256 - acc:  0.8266 - auc:  0.7173 - val_binary_crossentropy:  0.4061 - val_acc:  0.8286 - val_auc:  0.7543\n"
     ]
    },
    {
     "name": "stderr",
     "output_type": "stream",
     "text": [
      "503it [00:26, 10.22it/s]"
     ]
    },
    {
     "name": "stdout",
     "output_type": "stream",
     "text": [
      "[Iter499] - loss:  0.4200 - binary_crossentropy:  0.4200 - acc:  0.8276 - auc:  0.7271 - val_binary_crossentropy:  0.4006 - val_acc:  0.8279 - val_auc:  0.7616\n"
     ]
    },
    {
     "name": "stderr",
     "output_type": "stream",
     "text": [
      "604it [00:31, 14.20it/s]"
     ]
    },
    {
     "name": "stdout",
     "output_type": "stream",
     "text": [
      "[Iter599] - loss:  0.4173 - binary_crossentropy:  0.4173 - acc:  0.8273 - auc:  0.7322 - val_binary_crossentropy:  0.3953 - val_acc:  0.8282 - val_auc:  0.7700\n"
     ]
    },
    {
     "name": "stderr",
     "output_type": "stream",
     "text": [
      "633it [00:33, 18.99it/s]\n"
     ]
    },
    {
     "name": "stdout",
     "output_type": "stream",
     "text": [
      "Epoch 1/1\n",
      "33s - loss:  0.4165 - binary_crossentropy:  0.4165 - acc:  0.8272 - auc:  0.7340 - val_binary_crossentropy:  0.3944 - val_acc:  0.8297 - val_auc:  0.7717\n",
      "test LogLoss 0.3914\n",
      "test Accuracy 0.8314\n",
      "test AUC 0.7646\n"
     ]
    }
   ],
   "source": [
    "# 4.Define Model,train,predict and evaluate\n",
    "import argparse\n",
    "\n",
    "parser = argparse.ArgumentParser()\n",
    "parser.add_argument(\"--model\", choices=('deepfm',\n",
    "                                        'wdl', 'dcn'),\n",
    "                    default='deepfm')\n",
    "\n",
    "parser.add_argument(\"--dense-opt\", choices=('adam',\n",
    "                                            'sgd', 'adagrad', 'adadelta'), default='adam')\n",
    "parser.add_argument(\"--sparse-opt\", choices=('adam',\n",
    "                                             'sgd', 'adagrad', 'adadelta', 'rrms'), default=None)\n",
    "# 混合有问题\n",
    "\n",
    "\n",
    "parser.add_argument(\"--dense-lr\", type=float, default=0.1)\n",
    "parser.add_argument(\"--sparse-lr\", type=float, default=0.1)\n",
    "\n",
    "\n",
    "args = parser.parse_args(args=[])\n",
    "\n",
    "\n",
    "model_name = args.model\n",
    "optimizer_dense = args.dense_opt\n",
    "optimizer_sparse = args.sparse_opt\n",
    "optimizer_dense_lr = args.dense_lr\n",
    "optimizer_sparse_lr = args.sparse_lr\n",
    "\n",
    "device = 'cpu'\n",
    "use_cuda = True\n",
    "if use_cuda and torch.cuda.is_available():\n",
    "    print('cuda ready...')\n",
    "    device = 'cuda:0'\n",
    "\n",
    "if model_name == \"deepfm\":\n",
    "    model = DeepFM(linear_feature_columns, dnn_feature_columns,\n",
    "                   task='binary', device=device)\n",
    "# elif model_name == \"din\":\n",
    "#     model = DIN(linear_feature_columns, dnn_feature_columns,\n",
    "#                 task='binary', device=device)\n",
    "elif model_name == \"wdl\":\n",
    "    model = WDL(linear_feature_columns, dnn_feature_columns,\n",
    "                task='binary', device=device)\n",
    "elif model_name == \"dcn\":\n",
    "    model = DCN(linear_feature_columns, dnn_feature_columns,\n",
    "                task='binary', device=device)\n",
    "\n",
    "model.compile(optimizer=optimizer_dense, loss=\"binary_crossentropy\",\n",
    "              metrics=['binary_crossentropy', 'acc', 'AUC'],\n",
    "              optimizer_sparse=optimizer_sparse,\n",
    "              optimizer_dense_lr=optimizer_dense_lr,\n",
    "              optimizer_sparse_lr=optimizer_sparse_lr, )\n",
    "history = model.fit(train_model_input, train[target].values,\n",
    "                    batch_size=128, epochs=1, verbose=1, validation_split=0.1, model_name=model_name,\n",
    "                   verbose_steps= 100)\n",
    "pred_ans = model.predict(test_model_input, batch_size=128)\n",
    "print(\"test LogLoss\", round(log_loss(test[target].values, pred_ans), 4))\n",
    "print(\"test Accuracy\", round(accuracy_score(\n",
    "    test[target].values, pred_ans > 0.5), 4))\n",
    "print(\"test AUC\", round(roc_auc_score(test[target].values, pred_ans), 4))"
   ]
  },
  {
   "cell_type": "code",
   "execution_count": null,
   "metadata": {},
   "outputs": [],
   "source": []
  },
  {
   "cell_type": "code",
   "execution_count": null,
   "metadata": {},
   "outputs": [],
   "source": []
  }
 ],
 "metadata": {
  "kernelspec": {
   "display_name": "Python 3",
   "language": "python",
   "name": "python3"
  },
  "language_info": {
   "codemirror_mode": {
    "name": "ipython",
    "version": 3
   },
   "file_extension": ".py",
   "mimetype": "text/x-python",
   "name": "python",
   "nbconvert_exporter": "python",
   "pygments_lexer": "ipython3",
   "version": "3.7.4"
  },
  "toc": {
   "base_numbering": 1,
   "nav_menu": {},
   "number_sections": true,
   "sideBar": true,
   "skip_h1_title": false,
   "title_cell": "Table of Contents",
   "title_sidebar": "Contents",
   "toc_cell": false,
   "toc_position": {},
   "toc_section_display": true,
   "toc_window_display": false
  }
 },
 "nbformat": 4,
 "nbformat_minor": 2
}
