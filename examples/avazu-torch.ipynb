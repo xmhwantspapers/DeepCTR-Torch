{
 "cells": [
  {
   "cell_type": "code",
   "execution_count": 1,
   "metadata": {},
   "outputs": [],
   "source": [
    "import sys\n",
    "\n",
    "sys.path.append(\"/home/xmh/DeepCTR-Torch\")\n",
    "\n",
    "# -*- coding: utf-8 -*-\n",
    "import pandas as pd\n",
    "import torch\n",
    "from sklearn.metrics import log_loss, roc_auc_score,accuracy_score\n",
    "from sklearn.model_selection import train_test_split\n",
    "from sklearn.preprocessing import LabelEncoder, MinMaxScaler\n",
    "\n",
    "from deepctr_torch.inputs import SparseFeat, DenseFeat, get_feature_names\n",
    "from deepctr_torch.models import *\n",
    "\n",
    "import numpy as np"
   ]
  },
  {
   "cell_type": "code",
   "execution_count": 2,
   "metadata": {},
   "outputs": [],
   "source": [
    "data_prefix = \"/data/avazu-ctr-prediction/\"\n",
    "df = pd.read_csv(data_prefix + \"train-mini\")\n",
    "# df = pd.read_csv(data_prefix + \"train\")"
   ]
  },
  {
   "cell_type": "code",
   "execution_count": 3,
   "metadata": {},
   "outputs": [],
   "source": [
    "data = df\n",
    "sparse_features = ['id', 'C1', 'banner_pos', 'site_id', 'site_domain',\n",
    "                   'site_category', 'app_id', 'app_domain', 'app_category', 'device_id',\n",
    "                   'device_ip', 'device_model', 'device_type', 'device_conn_type', ] \\\n",
    "                  + ['C' + str(i) for i in range(14, 22)]\n",
    "dense_features = []\n",
    "\n",
    "target = ['click']\n",
    "\n",
    "# 1.Label Encoding for sparse features,and do simple Transformation for dense features\n",
    "\n",
    "mms = MinMaxScaler(feature_range=(0, 1))\n",
    "if dense_features != []:\n",
    "    data[dense_features] = mms.fit_transform(data[dense_features])\n",
    "\n",
    "for feat in sparse_features:\n",
    "    lbe = LabelEncoder()\n",
    "    data[feat] = lbe.fit_transform(data[feat])\n",
    "\n",
    "# 2.count #unique features for each sparse field,and record dense feature field name\n",
    "\n",
    "fixlen_feature_columns = [SparseFeat(feat, vocabulary_size=data[feat].nunique(), embedding_dim=4)\n",
    "                          for i, feat in enumerate(sparse_features)] + [DenseFeat(feat, 1,)\n",
    "                                                                        for feat in dense_features]\n",
    "\n",
    "dnn_feature_columns = fixlen_feature_columns\n",
    "linear_feature_columns = fixlen_feature_columns\n",
    "\n",
    "feature_names = get_feature_names(linear_feature_columns + dnn_feature_columns)\n",
    "\n",
    "# 3.generate input data for modelf\n",
    "\n",
    "train, test = train_test_split(data, test_size=0.1)\n",
    "train_model_input = {name: train[name] for name in feature_names}\n",
    "test_model_input = {name: test[name] for name in feature_names}"
   ]
  },
  {
   "cell_type": "code",
   "execution_count": 6,
   "metadata": {},
   "outputs": [
    {
     "name": "stderr",
     "output_type": "stream",
     "text": [
      "2it [00:00, 18.50it/s]"
     ]
    },
    {
     "name": "stdout",
     "output_type": "stream",
     "text": [
      "out.bias\n",
      "dnn.linears.0.weight\n",
      "dnn.linears.0.bias\n",
      "dnn.linears.1.weight\n",
      "dnn.linears.1.bias\n",
      "dnn_linear.weight\n",
      "embedding_dict.C1.weight\n",
      "embedding_dict.C14.weight\n",
      "embedding_dict.C15.weight\n",
      "embedding_dict.C16.weight\n",
      "embedding_dict.C17.weight\n",
      "embedding_dict.C18.weight\n",
      "embedding_dict.C19.weight\n",
      "embedding_dict.C20.weight\n",
      "embedding_dict.C21.weight\n",
      "embedding_dict.app_category.weight\n",
      "embedding_dict.app_domain.weight\n",
      "embedding_dict.app_id.weight\n",
      "embedding_dict.banner_pos.weight\n",
      "embedding_dict.device_conn_type.weight\n",
      "embedding_dict.device_id.weight\n",
      "embedding_dict.device_ip.weight\n",
      "embedding_dict.device_model.weight\n",
      "embedding_dict.device_type.weight\n",
      "embedding_dict.id.weight\n",
      "embedding_dict.site_category.weight\n",
      "embedding_dict.site_domain.weight\n",
      "embedding_dict.site_id.weight\n",
      "linear_model.embedding_dict.C1.weight\n",
      "linear_model.embedding_dict.C14.weight\n",
      "linear_model.embedding_dict.C15.weight\n",
      "linear_model.embedding_dict.C16.weight\n",
      "linear_model.embedding_dict.C17.weight\n",
      "linear_model.embedding_dict.C18.weight\n",
      "linear_model.embedding_dict.C19.weight\n",
      "linear_model.embedding_dict.C20.weight\n",
      "linear_model.embedding_dict.C21.weight\n",
      "linear_model.embedding_dict.app_category.weight\n",
      "linear_model.embedding_dict.app_domain.weight\n",
      "linear_model.embedding_dict.app_id.weight\n",
      "linear_model.embedding_dict.banner_pos.weight\n",
      "linear_model.embedding_dict.device_conn_type.weight\n",
      "linear_model.embedding_dict.device_id.weight\n",
      "linear_model.embedding_dict.device_ip.weight\n",
      "linear_model.embedding_dict.device_model.weight\n",
      "linear_model.embedding_dict.device_type.weight\n",
      "linear_model.embedding_dict.id.weight\n",
      "linear_model.embedding_dict.site_category.weight\n",
      "linear_model.embedding_dict.site_domain.weight\n",
      "linear_model.embedding_dict.site_id.weight\n",
      "cpu\n",
      "Train on 80999 samples, validate on 9000 samples, 633 steps per epoch\n"
     ]
    },
    {
     "name": "stderr",
     "output_type": "stream",
     "text": [
      "\r",
      "3it [00:00,  7.00it/s]"
     ]
    },
    {
     "name": "stdout",
     "output_type": "stream",
     "text": [
      "[Iter2] - loss:  5.7591 - binary_crossentropy:  2.1197 - acc:  0.8255 - auc:  0.5137 - val_binary_crossentropy:  2.8475 - val_acc:  0.8233 - val_auc:  0.5230\n"
     ]
    },
    {
     "name": "stderr",
     "output_type": "stream",
     "text": [
      "\r",
      "6it [00:00,  7.01it/s]"
     ]
    },
    {
     "name": "stdout",
     "output_type": "stream",
     "text": [
      "[Iter5] - loss:  6.7870 - binary_crossentropy:  2.3611 - acc:  0.8320 - auc:  0.4899 - val_binary_crossentropy:  2.8475 - val_acc:  0.8233 - val_auc:  0.5228\n"
     ]
    },
    {
     "name": "stderr",
     "output_type": "stream",
     "text": [
      "\r",
      "9it [00:01,  7.01it/s]"
     ]
    },
    {
     "name": "stdout",
     "output_type": "stream",
     "text": [
      "[Iter8] - loss:  7.2571 - binary_crossentropy:  2.5115 - acc:  0.8299 - auc:  0.4970 - val_binary_crossentropy:  2.8475 - val_acc:  0.8233 - val_auc:  0.5225\n"
     ]
    },
    {
     "name": "stderr",
     "output_type": "stream",
     "text": [
      "\r",
      "12it [00:01,  7.03it/s]"
     ]
    },
    {
     "name": "stdout",
     "output_type": "stream",
     "text": [
      "[Iter11] - loss:  7.3349 - binary_crossentropy:  2.5447 - acc:  0.8314 - auc:  0.4968 - val_binary_crossentropy:  2.8475 - val_acc:  0.8233 - val_auc:  0.5221\n"
     ]
    },
    {
     "name": "stderr",
     "output_type": "stream",
     "text": [
      "\r",
      "15it [00:02,  7.05it/s]"
     ]
    },
    {
     "name": "stdout",
     "output_type": "stream",
     "text": [
      "[Iter14] - loss:  7.3814 - binary_crossentropy:  2.5562 - acc:  0.8328 - auc:  0.4900 - val_binary_crossentropy:  2.8475 - val_acc:  0.8233 - val_auc:  0.5219\n"
     ]
    },
    {
     "name": "stderr",
     "output_type": "stream",
     "text": [
      "\r",
      "18it [00:02,  7.05it/s]"
     ]
    },
    {
     "name": "stdout",
     "output_type": "stream",
     "text": [
      "[Iter17] - loss:  7.6768 - binary_crossentropy:  2.6759 - acc:  0.8268 - auc:  0.4918 - val_binary_crossentropy:  2.8475 - val_acc:  0.8233 - val_auc:  0.5213\n"
     ]
    },
    {
     "name": "stderr",
     "output_type": "stream",
     "text": [
      "\r",
      "21it [00:02,  7.19it/s]"
     ]
    },
    {
     "name": "stdout",
     "output_type": "stream",
     "text": [
      "[Iter20] - loss:  7.6447 - binary_crossentropy:  2.6834 - acc:  0.8274 - auc:  0.5006 - val_binary_crossentropy:  2.8475 - val_acc:  0.8233 - val_auc:  0.5209\n"
     ]
    },
    {
     "name": "stderr",
     "output_type": "stream",
     "text": [
      "\r",
      "24it [00:03,  7.49it/s]"
     ]
    },
    {
     "name": "stdout",
     "output_type": "stream",
     "text": [
      "[Iter23] - loss:  7.6516 - binary_crossentropy:  2.7100 - acc:  0.8265 - auc:  0.5046 - val_binary_crossentropy:  2.8475 - val_acc:  0.8233 - val_auc:  0.5212\n"
     ]
    },
    {
     "name": "stderr",
     "output_type": "stream",
     "text": [
      "\r",
      "27it [00:03,  7.23it/s]"
     ]
    },
    {
     "name": "stdout",
     "output_type": "stream",
     "text": [
      "[Iter26] - loss:  7.5846 - binary_crossentropy:  2.7073 - acc:  0.8273 - auc:  0.5002 - val_binary_crossentropy:  2.8475 - val_acc:  0.8233 - val_auc:  0.5199\n"
     ]
    },
    {
     "name": "stderr",
     "output_type": "stream",
     "text": [
      "\r",
      "30it [00:04,  7.09it/s]"
     ]
    },
    {
     "name": "stdout",
     "output_type": "stream",
     "text": [
      "[Iter29] - loss:  7.3732 - binary_crossentropy:  2.7177 - acc:  0.8263 - auc:  0.5014 - val_binary_crossentropy:  13.1259 - val_acc:  0.1767 - val_auc:  0.5000\n"
     ]
    },
    {
     "name": "stderr",
     "output_type": "stream",
     "text": [
      "\r",
      "33it [00:04,  7.12it/s]"
     ]
    },
    {
     "name": "stdout",
     "output_type": "stream",
     "text": [
      "[Iter32] - loss:  8.6850 - binary_crossentropy:  3.6142 - acc:  0.7704 - auc:  0.5013 - val_binary_crossentropy:  13.1259 - val_acc:  0.1767 - val_auc:  0.5000\n"
     ]
    },
    {
     "name": "stderr",
     "output_type": "stream",
     "text": [
      "\r",
      "36it [00:05,  7.13it/s]"
     ]
    },
    {
     "name": "stdout",
     "output_type": "stream",
     "text": [
      "[Iter35] - loss:  9.8501 - binary_crossentropy:  4.4029 - acc:  0.7211 - auc:  0.5012 - val_binary_crossentropy:  13.1259 - val_acc:  0.1767 - val_auc:  0.5000\n"
     ]
    },
    {
     "name": "stderr",
     "output_type": "stream",
     "text": [
      "\r",
      "39it [00:05,  7.14it/s]"
     ]
    },
    {
     "name": "stdout",
     "output_type": "stream",
     "text": [
      "[Iter38] - loss:  10.8691 - binary_crossentropy:  5.0893 - acc:  0.6783 - auc:  0.5011 - val_binary_crossentropy:  13.1259 - val_acc:  0.1767 - val_auc:  0.5000\n"
     ]
    },
    {
     "name": "stderr",
     "output_type": "stream",
     "text": [
      "\r",
      "42it [00:05,  7.16it/s]"
     ]
    },
    {
     "name": "stdout",
     "output_type": "stream",
     "text": [
      "[Iter41] - loss:  11.7323 - binary_crossentropy:  5.6718 - acc:  0.6419 - auc:  0.5010 - val_binary_crossentropy:  13.1259 - val_acc:  0.1767 - val_auc:  0.5000\n"
     ]
    },
    {
     "name": "stderr",
     "output_type": "stream",
     "text": [
      "\r",
      "45it [00:06,  7.16it/s]"
     ]
    },
    {
     "name": "stdout",
     "output_type": "stream",
     "text": [
      "[Iter44] - loss:  12.4325 - binary_crossentropy:  6.1489 - acc:  0.6122 - auc:  0.5009 - val_binary_crossentropy:  13.1259 - val_acc:  0.1767 - val_auc:  0.5000\n"
     ]
    },
    {
     "name": "stderr",
     "output_type": "stream",
     "text": [
      "\r",
      "48it [00:06,  7.13it/s]"
     ]
    },
    {
     "name": "stdout",
     "output_type": "stream",
     "text": [
      "[Iter47] - loss:  13.0721 - binary_crossentropy:  6.5820 - acc:  0.5851 - auc:  0.5009 - val_binary_crossentropy:  13.1259 - val_acc:  0.1767 - val_auc:  0.5000\n"
     ]
    },
    {
     "name": "stderr",
     "output_type": "stream",
     "text": [
      "\r",
      "51it [00:07,  7.14it/s]"
     ]
    },
    {
     "name": "stdout",
     "output_type": "stream",
     "text": [
      "[Iter50] - loss:  13.6153 - binary_crossentropy:  6.9519 - acc:  0.5620 - auc:  0.5008 - val_binary_crossentropy:  13.1259 - val_acc:  0.1767 - val_auc:  0.5000\n"
     ]
    },
    {
     "name": "stderr",
     "output_type": "stream",
     "text": [
      "\r",
      "54it [00:07,  7.15it/s]"
     ]
    },
    {
     "name": "stdout",
     "output_type": "stream",
     "text": [
      "[Iter53] - loss:  14.1541 - binary_crossentropy:  7.3129 - acc:  0.5395 - auc:  0.5008 - val_binary_crossentropy:  13.1259 - val_acc:  0.1767 - val_auc:  0.5000\n"
     ]
    },
    {
     "name": "stderr",
     "output_type": "stream",
     "text": [
      "\r",
      "57it [00:08,  7.15it/s]"
     ]
    },
    {
     "name": "stdout",
     "output_type": "stream",
     "text": [
      "[Iter56] - loss:  14.5793 - binary_crossentropy:  7.6032 - acc:  0.5214 - auc:  0.5007 - val_binary_crossentropy:  13.1259 - val_acc:  0.1767 - val_auc:  0.5000\n"
     ]
    },
    {
     "name": "stderr",
     "output_type": "stream",
     "text": [
      "\r",
      "60it [00:08,  7.15it/s]"
     ]
    },
    {
     "name": "stdout",
     "output_type": "stream",
     "text": [
      "[Iter59] - loss:  14.9765 - binary_crossentropy:  7.8728 - acc:  0.5046 - auc:  0.5007 - val_binary_crossentropy:  13.1259 - val_acc:  0.1767 - val_auc:  0.5000\n"
     ]
    },
    {
     "name": "stderr",
     "output_type": "stream",
     "text": [
      "\r",
      "63it [00:08,  7.15it/s]"
     ]
    },
    {
     "name": "stdout",
     "output_type": "stream",
     "text": [
      "[Iter62] - loss:  15.3495 - binary_crossentropy:  8.1246 - acc:  0.4888 - auc:  0.5007 - val_binary_crossentropy:  13.1259 - val_acc:  0.1767 - val_auc:  0.5000\n"
     ]
    },
    {
     "name": "stderr",
     "output_type": "stream",
     "text": [
      "\r",
      "66it [00:09,  7.16it/s]"
     ]
    },
    {
     "name": "stdout",
     "output_type": "stream",
     "text": [
      "[Iter65] - loss:  15.7050 - binary_crossentropy:  8.3630 - acc:  0.4740 - auc:  0.5006 - val_binary_crossentropy:  13.1259 - val_acc:  0.1767 - val_auc:  0.5000\n"
     ]
    },
    {
     "name": "stderr",
     "output_type": "stream",
     "text": [
      "71it [00:09,  7.22it/s]"
     ]
    },
    {
     "name": "stdout",
     "output_type": "stream",
     "text": [
      "[Iter68] - loss:  16.0201 - binary_crossentropy:  8.5752 - acc:  0.4607 - auc:  0.5006 - val_binary_crossentropy:  13.1259 - val_acc:  0.1767 - val_auc:  0.5000\n"
     ]
    },
    {
     "name": "stderr",
     "output_type": "stream",
     "text": [
      "\n"
     ]
    },
    {
     "ename": "KeyboardInterrupt",
     "evalue": "",
     "output_type": "error",
     "traceback": [
      "\u001b[0;31m---------------------------------------------------------------------------\u001b[0m",
      "\u001b[0;31mKeyboardInterrupt\u001b[0m                         Traceback (most recent call last)",
      "\u001b[0;32m<ipython-input-6-1905e7ad6879>\u001b[0m in \u001b[0;36m<module>\u001b[0;34m\u001b[0m\n\u001b[1;32m     53\u001b[0m history = model.fit(train_model_input, train[target].values,\n\u001b[1;32m     54\u001b[0m                     \u001b[0mbatch_size\u001b[0m\u001b[0;34m=\u001b[0m\u001b[0;36m128\u001b[0m\u001b[0;34m,\u001b[0m \u001b[0mepochs\u001b[0m\u001b[0;34m=\u001b[0m\u001b[0;36m1\u001b[0m\u001b[0;34m,\u001b[0m \u001b[0mverbose\u001b[0m\u001b[0;34m=\u001b[0m\u001b[0;36m1\u001b[0m\u001b[0;34m,\u001b[0m \u001b[0mvalidation_split\u001b[0m\u001b[0;34m=\u001b[0m\u001b[0;36m0.1\u001b[0m\u001b[0;34m,\u001b[0m \u001b[0mmodel_name\u001b[0m\u001b[0;34m=\u001b[0m\u001b[0mmodel_name\u001b[0m\u001b[0;34m,\u001b[0m\u001b[0;34m\u001b[0m\u001b[0;34m\u001b[0m\u001b[0m\n\u001b[0;32m---> 55\u001b[0;31m                    verbose_steps= 3)\n\u001b[0m\u001b[1;32m     56\u001b[0m \u001b[0mpred_ans\u001b[0m \u001b[0;34m=\u001b[0m \u001b[0mmodel\u001b[0m\u001b[0;34m.\u001b[0m\u001b[0mpredict\u001b[0m\u001b[0;34m(\u001b[0m\u001b[0mtest_model_input\u001b[0m\u001b[0;34m,\u001b[0m \u001b[0mbatch_size\u001b[0m\u001b[0;34m=\u001b[0m\u001b[0;36m128\u001b[0m\u001b[0;34m)\u001b[0m\u001b[0;34m\u001b[0m\u001b[0;34m\u001b[0m\u001b[0m\n\u001b[1;32m     57\u001b[0m \u001b[0mprint\u001b[0m\u001b[0;34m(\u001b[0m\u001b[0;34m\"test LogLoss\"\u001b[0m\u001b[0;34m,\u001b[0m \u001b[0mround\u001b[0m\u001b[0;34m(\u001b[0m\u001b[0mlog_loss\u001b[0m\u001b[0;34m(\u001b[0m\u001b[0mtest\u001b[0m\u001b[0;34m[\u001b[0m\u001b[0mtarget\u001b[0m\u001b[0;34m]\u001b[0m\u001b[0;34m.\u001b[0m\u001b[0mvalues\u001b[0m\u001b[0;34m,\u001b[0m \u001b[0mpred_ans\u001b[0m\u001b[0;34m)\u001b[0m\u001b[0;34m,\u001b[0m \u001b[0;36m4\u001b[0m\u001b[0;34m)\u001b[0m\u001b[0;34m)\u001b[0m\u001b[0;34m\u001b[0m\u001b[0;34m\u001b[0m\u001b[0m\n",
      "\u001b[0;32m~/DeepCTR-Torch/deepctr_torch/models/basemodel.py\u001b[0m in \u001b[0;36mfit\u001b[0;34m(self, x, y, batch_size, epochs, verbose, initial_epoch, validation_split, validation_data, shuffle, use_double, model_name, verbose_steps)\u001b[0m\n\u001b[1;32m    269\u001b[0m                             \u001b[0;32mif\u001b[0m \u001b[0mlen\u001b[0m\u001b[0;34m(\u001b[0m\u001b[0mval_x\u001b[0m\u001b[0;34m)\u001b[0m \u001b[0;32mand\u001b[0m \u001b[0mlen\u001b[0m\u001b[0;34m(\u001b[0m\u001b[0mval_y\u001b[0m\u001b[0;34m)\u001b[0m\u001b[0;34m:\u001b[0m\u001b[0;34m\u001b[0m\u001b[0;34m\u001b[0m\u001b[0m\n\u001b[1;32m    270\u001b[0m                                 eval_result = self.evaluate(\n\u001b[0;32m--> 271\u001b[0;31m                                     val_x, val_y, batch_size)\n\u001b[0m\u001b[1;32m    272\u001b[0m \u001b[0;34m\u001b[0m\u001b[0m\n\u001b[1;32m    273\u001b[0m                                 \u001b[0;32mfor\u001b[0m \u001b[0mname\u001b[0m\u001b[0;34m,\u001b[0m \u001b[0mresult\u001b[0m \u001b[0;32min\u001b[0m \u001b[0meval_result\u001b[0m\u001b[0;34m.\u001b[0m\u001b[0mitems\u001b[0m\u001b[0;34m(\u001b[0m\u001b[0;34m)\u001b[0m\u001b[0;34m:\u001b[0m\u001b[0;34m\u001b[0m\u001b[0;34m\u001b[0m\u001b[0m\n",
      "\u001b[0;32m~/DeepCTR-Torch/deepctr_torch/models/basemodel.py\u001b[0m in \u001b[0;36mevaluate\u001b[0;34m(self, x, y, batch_size)\u001b[0m\n\u001b[1;32m    312\u001b[0m         \u001b[0;34m:\u001b[0m\u001b[0;32mreturn\u001b[0m\u001b[0;34m:\u001b[0m \u001b[0mInteger\u001b[0m \u001b[0;32mor\u001b[0m\u001b[0;31m \u001b[0m\u001b[0;31m`\u001b[0m\u001b[0;32mNone\u001b[0m\u001b[0;31m`\u001b[0m\u001b[0;34m.\u001b[0m \u001b[0mNumber\u001b[0m \u001b[0mof\u001b[0m \u001b[0msamples\u001b[0m \u001b[0mper\u001b[0m \u001b[0mevaluation\u001b[0m \u001b[0mstep\u001b[0m\u001b[0;34m.\u001b[0m \u001b[0mIf\u001b[0m \u001b[0munspecified\u001b[0m\u001b[0;34m,\u001b[0m\u001b[0;31m \u001b[0m\u001b[0;31m`\u001b[0m\u001b[0mbatch_size\u001b[0m\u001b[0;31m`\u001b[0m \u001b[0mwill\u001b[0m \u001b[0mdefault\u001b[0m \u001b[0mto\u001b[0m \u001b[0;36m256.\u001b[0m\u001b[0;34m\u001b[0m\u001b[0;34m\u001b[0m\u001b[0m\n\u001b[1;32m    313\u001b[0m         \"\"\"\n\u001b[0;32m--> 314\u001b[0;31m         \u001b[0mpred_ans\u001b[0m \u001b[0;34m=\u001b[0m \u001b[0mself\u001b[0m\u001b[0;34m.\u001b[0m\u001b[0mpredict\u001b[0m\u001b[0;34m(\u001b[0m\u001b[0mx\u001b[0m\u001b[0;34m,\u001b[0m \u001b[0mbatch_size\u001b[0m\u001b[0;34m)\u001b[0m\u001b[0;34m\u001b[0m\u001b[0;34m\u001b[0m\u001b[0m\n\u001b[0m\u001b[1;32m    315\u001b[0m         \u001b[0meval_result\u001b[0m \u001b[0;34m=\u001b[0m \u001b[0;34m{\u001b[0m\u001b[0;34m}\u001b[0m\u001b[0;34m\u001b[0m\u001b[0;34m\u001b[0m\u001b[0m\n\u001b[1;32m    316\u001b[0m         \u001b[0;32mfor\u001b[0m \u001b[0mname\u001b[0m\u001b[0;34m,\u001b[0m \u001b[0mmetric_fun\u001b[0m \u001b[0;32min\u001b[0m \u001b[0mself\u001b[0m\u001b[0;34m.\u001b[0m\u001b[0mmetrics\u001b[0m\u001b[0;34m.\u001b[0m\u001b[0mitems\u001b[0m\u001b[0;34m(\u001b[0m\u001b[0;34m)\u001b[0m\u001b[0;34m:\u001b[0m\u001b[0;34m\u001b[0m\u001b[0;34m\u001b[0m\u001b[0m\n",
      "\u001b[0;32m~/DeepCTR-Torch/deepctr_torch/models/basemodel.py\u001b[0m in \u001b[0;36mpredict\u001b[0;34m(self, x, batch_size, use_double)\u001b[0m\n\u001b[1;32m    343\u001b[0m                 \u001b[0;31m# y = y_test.to(self.device).float()\u001b[0m\u001b[0;34m\u001b[0m\u001b[0;34m\u001b[0m\u001b[0;34m\u001b[0m\u001b[0m\n\u001b[1;32m    344\u001b[0m \u001b[0;34m\u001b[0m\u001b[0m\n\u001b[0;32m--> 345\u001b[0;31m                 \u001b[0my_pred\u001b[0m \u001b[0;34m=\u001b[0m \u001b[0mmodel\u001b[0m\u001b[0;34m(\u001b[0m\u001b[0mx\u001b[0m\u001b[0;34m)\u001b[0m\u001b[0;34m.\u001b[0m\u001b[0mcpu\u001b[0m\u001b[0;34m(\u001b[0m\u001b[0;34m)\u001b[0m\u001b[0;34m.\u001b[0m\u001b[0mdata\u001b[0m\u001b[0;34m.\u001b[0m\u001b[0mnumpy\u001b[0m\u001b[0;34m(\u001b[0m\u001b[0;34m)\u001b[0m  \u001b[0;31m# .squeeze()\u001b[0m\u001b[0;34m\u001b[0m\u001b[0;34m\u001b[0m\u001b[0m\n\u001b[0m\u001b[1;32m    346\u001b[0m                 \u001b[0mpred_ans\u001b[0m\u001b[0;34m.\u001b[0m\u001b[0mappend\u001b[0m\u001b[0;34m(\u001b[0m\u001b[0my_pred\u001b[0m\u001b[0;34m)\u001b[0m\u001b[0;34m\u001b[0m\u001b[0;34m\u001b[0m\u001b[0m\n\u001b[1;32m    347\u001b[0m \u001b[0;34m\u001b[0m\u001b[0m\n",
      "\u001b[0;32m~/anaconda3/lib/python3.7/site-packages/torch/nn/modules/module.py\u001b[0m in \u001b[0;36m__call__\u001b[0;34m(self, *input, **kwargs)\u001b[0m\n\u001b[1;32m    530\u001b[0m             \u001b[0mresult\u001b[0m \u001b[0;34m=\u001b[0m \u001b[0mself\u001b[0m\u001b[0;34m.\u001b[0m\u001b[0m_slow_forward\u001b[0m\u001b[0;34m(\u001b[0m\u001b[0;34m*\u001b[0m\u001b[0minput\u001b[0m\u001b[0;34m,\u001b[0m \u001b[0;34m**\u001b[0m\u001b[0mkwargs\u001b[0m\u001b[0;34m)\u001b[0m\u001b[0;34m\u001b[0m\u001b[0;34m\u001b[0m\u001b[0m\n\u001b[1;32m    531\u001b[0m         \u001b[0;32melse\u001b[0m\u001b[0;34m:\u001b[0m\u001b[0;34m\u001b[0m\u001b[0;34m\u001b[0m\u001b[0m\n\u001b[0;32m--> 532\u001b[0;31m             \u001b[0mresult\u001b[0m \u001b[0;34m=\u001b[0m \u001b[0mself\u001b[0m\u001b[0;34m.\u001b[0m\u001b[0mforward\u001b[0m\u001b[0;34m(\u001b[0m\u001b[0;34m*\u001b[0m\u001b[0minput\u001b[0m\u001b[0;34m,\u001b[0m \u001b[0;34m**\u001b[0m\u001b[0mkwargs\u001b[0m\u001b[0;34m)\u001b[0m\u001b[0;34m\u001b[0m\u001b[0;34m\u001b[0m\u001b[0m\n\u001b[0m\u001b[1;32m    533\u001b[0m         \u001b[0;32mfor\u001b[0m \u001b[0mhook\u001b[0m \u001b[0;32min\u001b[0m \u001b[0mself\u001b[0m\u001b[0;34m.\u001b[0m\u001b[0m_forward_hooks\u001b[0m\u001b[0;34m.\u001b[0m\u001b[0mvalues\u001b[0m\u001b[0;34m(\u001b[0m\u001b[0;34m)\u001b[0m\u001b[0;34m:\u001b[0m\u001b[0;34m\u001b[0m\u001b[0;34m\u001b[0m\u001b[0m\n\u001b[1;32m    534\u001b[0m             \u001b[0mhook_result\u001b[0m \u001b[0;34m=\u001b[0m \u001b[0mhook\u001b[0m\u001b[0;34m(\u001b[0m\u001b[0mself\u001b[0m\u001b[0;34m,\u001b[0m \u001b[0minput\u001b[0m\u001b[0;34m,\u001b[0m \u001b[0mresult\u001b[0m\u001b[0;34m)\u001b[0m\u001b[0;34m\u001b[0m\u001b[0;34m\u001b[0m\u001b[0m\n",
      "\u001b[0;32m~/DeepCTR-Torch/deepctr_torch/models/deepfm.py\u001b[0m in \u001b[0;36mforward\u001b[0;34m(self, X)\u001b[0m\n\u001b[1;32m     71\u001b[0m \u001b[0;34m\u001b[0m\u001b[0m\n\u001b[1;32m     72\u001b[0m         sparse_embedding_list, dense_value_list = self.input_from_feature_columns(X, self.dnn_feature_columns,\n\u001b[0;32m---> 73\u001b[0;31m                                                                                   self.embedding_dict)\n\u001b[0m\u001b[1;32m     74\u001b[0m         \u001b[0mlogit\u001b[0m \u001b[0;34m=\u001b[0m \u001b[0mself\u001b[0m\u001b[0;34m.\u001b[0m\u001b[0mlinear_model\u001b[0m\u001b[0;34m(\u001b[0m\u001b[0mX\u001b[0m\u001b[0;34m)\u001b[0m\u001b[0;34m\u001b[0m\u001b[0;34m\u001b[0m\u001b[0m\n\u001b[1;32m     75\u001b[0m \u001b[0;34m\u001b[0m\u001b[0m\n",
      "\u001b[0;32m~/DeepCTR-Torch/deepctr_torch/models/basemodel.py\u001b[0m in \u001b[0;36minput_from_feature_columns\u001b[0;34m(self, X, feature_columns, embedding_dict, support_dense)\u001b[0m\n\u001b[1;32m    367\u001b[0m         sparse_embedding_list = [embedding_dict[feat.embedding_name](\n\u001b[1;32m    368\u001b[0m             X[:, self.feature_index[feat.name][0]:self.feature_index[feat.name][1]].long()) for\n\u001b[0;32m--> 369\u001b[0;31m             feat in sparse_feature_columns]\n\u001b[0m\u001b[1;32m    370\u001b[0m \u001b[0;34m\u001b[0m\u001b[0m\n\u001b[1;32m    371\u001b[0m         varlen_sparse_embedding_list = get_varlen_pooling_list(self.embedding_dict, X, self.feature_index,\n",
      "\u001b[0;32m~/DeepCTR-Torch/deepctr_torch/models/basemodel.py\u001b[0m in \u001b[0;36m<listcomp>\u001b[0;34m(.0)\u001b[0m\n\u001b[1;32m    367\u001b[0m         sparse_embedding_list = [embedding_dict[feat.embedding_name](\n\u001b[1;32m    368\u001b[0m             X[:, self.feature_index[feat.name][0]:self.feature_index[feat.name][1]].long()) for\n\u001b[0;32m--> 369\u001b[0;31m             feat in sparse_feature_columns]\n\u001b[0m\u001b[1;32m    370\u001b[0m \u001b[0;34m\u001b[0m\u001b[0m\n\u001b[1;32m    371\u001b[0m         varlen_sparse_embedding_list = get_varlen_pooling_list(self.embedding_dict, X, self.feature_index,\n",
      "\u001b[0;31mKeyboardInterrupt\u001b[0m: "
     ]
    }
   ],
   "source": [
    "# 4.Define Model,train,predict and evaluate\n",
    "import argparse\n",
    "\n",
    "parser = argparse.ArgumentParser()\n",
    "parser.add_argument(\"--model\", choices=('deepfm',\n",
    "                                        'wdl', 'dcn'),\n",
    "                    default='deepfm')\n",
    "\n",
    "parser.add_argument(\"--dense-opt\", choices=('adam',\n",
    "                                            'sgd', 'adagrad', 'adadelta'), default='sgd')\n",
    "parser.add_argument(\"--sparse-opt\", choices=('adam',\n",
    "                                             'sgd', 'adagrad', 'adadelta', 'rrms'), default='sgd')\n",
    "# sgd有问题\n",
    "\n",
    "\n",
    "parser.add_argument(\"--dense-lr\", type=float, default=0.1)\n",
    "parser.add_argument(\"--sparse-lr\", type=float, default=0.1)\n",
    "\n",
    "\n",
    "args = parser.parse_args(args=[])\n",
    "\n",
    "\n",
    "model_name = args.model\n",
    "optimizer_dense = args.dense_opt\n",
    "optimizer_sparse = args.sparse_opt\n",
    "optimizer_dense_lr = args.dense_lr\n",
    "optimizer_sparse_lr = args.sparse_lr\n",
    "\n",
    "device = 'cpu'\n",
    "use_cuda = True\n",
    "if use_cuda and torch.cuda.is_available():\n",
    "    print('cuda ready...')\n",
    "    device = 'cuda:0'\n",
    "\n",
    "if model_name == \"deepfm\":\n",
    "    model = DeepFM(linear_feature_columns, dnn_feature_columns,\n",
    "                   task='binary', device=device)\n",
    "# elif model_name == \"din\":\n",
    "#     model = DIN(linear_feature_columns, dnn_feature_columns,\n",
    "#                 task='binary', device=device)\n",
    "elif model_name == \"wdl\":\n",
    "    model = WDL(linear_feature_columns, dnn_feature_columns,\n",
    "                task='binary', device=device)\n",
    "elif model_name == \"dcn\":\n",
    "    model = DCN(linear_feature_columns, dnn_feature_columns,\n",
    "                task='binary', device=device)\n",
    "\n",
    "model.compile(optimizer=optimizer_dense, loss=\"binary_crossentropy\",\n",
    "              metrics=['binary_crossentropy', 'acc', 'AUC'],\n",
    "              optimizer_sparse=optimizer_sparse,\n",
    "              optimizer_dense_lr=optimizer_dense_lr,\n",
    "              optimizer_sparse_lr=optimizer_sparse_lr, )\n",
    "history = model.fit(train_model_input, train[target].values,\n",
    "                    batch_size=128, epochs=1, verbose=1, validation_split=0.1, model_name=model_name,\n",
    "                   verbose_steps= 3)\n",
    "pred_ans = model.predict(test_model_input, batch_size=128)\n",
    "print(\"test LogLoss\", round(log_loss(test[target].values, pred_ans), 4))\n",
    "print(\"test Accuracy\", round(accuracy_score(\n",
    "    test[target].values, pred_ans > 0.5), 4))\n",
    "print(\"test AUC\", round(roc_auc_score(test[target].values, pred_ans), 4))"
   ]
  },
  {
   "cell_type": "code",
   "execution_count": null,
   "metadata": {},
   "outputs": [],
   "source": []
  },
  {
   "cell_type": "code",
   "execution_count": null,
   "metadata": {},
   "outputs": [],
   "source": []
  }
 ],
 "metadata": {
  "kernelspec": {
   "display_name": "Python 3",
   "language": "python",
   "name": "python3"
  },
  "language_info": {
   "codemirror_mode": {
    "name": "ipython",
    "version": 3
   },
   "file_extension": ".py",
   "mimetype": "text/x-python",
   "name": "python",
   "nbconvert_exporter": "python",
   "pygments_lexer": "ipython3",
   "version": "3.7.4"
  },
  "toc": {
   "base_numbering": 1,
   "nav_menu": {},
   "number_sections": true,
   "sideBar": true,
   "skip_h1_title": false,
   "title_cell": "Table of Contents",
   "title_sidebar": "Contents",
   "toc_cell": false,
   "toc_position": {},
   "toc_section_display": true,
   "toc_window_display": false
  }
 },
 "nbformat": 4,
 "nbformat_minor": 2
}
