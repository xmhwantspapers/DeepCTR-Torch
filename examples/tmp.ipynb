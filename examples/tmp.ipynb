{
 "cells": [
  {
   "cell_type": "code",
   "execution_count": 1,
   "metadata": {},
   "outputs": [
    {
     "name": "stdout",
     "output_type": "stream",
     "text": [
      "cpu\n",
      "Train on 160 samples, validate on 40 samples, 1 steps per epoch\n",
      "Epoch 1/10\n",
      "0s - loss:  14.0101 - mse:  14.0101 - val_mse:  12.9302\n",
      "Epoch 2/10\n",
      "0s - loss:  13.6926 - mse:  13.6926 - val_mse:  12.6517\n",
      "Epoch 3/10\n",
      "0s - loss:  13.3859 - mse:  13.3859 - val_mse:  12.3783\n",
      "Epoch 4/10\n",
      "0s - loss:  13.0847 - mse:  13.0847 - val_mse:  12.1067\n",
      "Epoch 5/10\n",
      "0s - loss:  12.7856 - mse:  12.7856 - val_mse:  11.8501\n",
      "Epoch 6/10\n",
      "0s - loss:  12.5019 - mse:  12.5019 - val_mse:  11.5929\n",
      "Epoch 7/10\n",
      "0s - loss:  12.2172 - mse:  12.2172 - val_mse:  11.3270\n",
      "Epoch 8/10\n",
      "0s - loss:  11.9230 - mse:  11.9230 - val_mse:  11.0521\n",
      "Epoch 9/10\n",
      "0s - loss:  11.6191 - mse:  11.6191 - val_mse:  10.7679\n",
      "Epoch 10/10\n",
      "0s - loss:  11.3051 - mse:  11.3051 - val_mse:  10.4744\n"
     ]
    }
   ],
   "source": [
    "%run run_multivalue_movielens.py"
   ]
  },
  {
   "cell_type": "code",
   "execution_count": 2,
   "metadata": {},
   "outputs": [
    {
     "name": "stdout",
     "output_type": "stream",
     "text": [
      "avazu-ctr-prediction\t  Electronics_5.json.gz     ml-20mx16x32      np_prepro\r\n",
      "avazu-ctr-prediction.zip  meta_Electronics.json     ml-20mx16x32.tar\r\n",
      "Electronics_5.json\t  meta_Electronics.json.gz  ml-25m\r\n"
     ]
    }
   ],
   "source": [
    "! ls /data"
   ]
  },
  {
   "cell_type": "code",
   "execution_count": null,
   "metadata": {},
   "outputs": [],
   "source": []
  }
 ],
 "metadata": {
  "kernelspec": {
   "display_name": "Python 3",
   "language": "python",
   "name": "python3"
  },
  "language_info": {
   "codemirror_mode": {
    "name": "ipython",
    "version": 3
   },
   "file_extension": ".py",
   "mimetype": "text/x-python",
   "name": "python",
   "nbconvert_exporter": "python",
   "pygments_lexer": "ipython3",
   "version": "3.7.4"
  },
  "toc": {
   "base_numbering": 1,
   "nav_menu": {},
   "number_sections": true,
   "sideBar": true,
   "skip_h1_title": false,
   "title_cell": "Table of Contents",
   "title_sidebar": "Contents",
   "toc_cell": false,
   "toc_position": {},
   "toc_section_display": true,
   "toc_window_display": false
  }
 },
 "nbformat": 4,
 "nbformat_minor": 2
}
